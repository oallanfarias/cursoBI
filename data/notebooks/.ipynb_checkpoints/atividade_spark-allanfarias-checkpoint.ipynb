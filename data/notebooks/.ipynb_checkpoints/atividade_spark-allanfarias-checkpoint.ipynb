{
 "cells": [
  {
   "cell_type": "code",
   "execution_count": 1,
   "metadata": {},
   "outputs": [],
   "source": [
    "from pyspark.sql import SparkSession, dataframe\n",
    "from pyspark.sql.functions import when, col, sum, count, isnan, round\n",
    "from pyspark.sql.functions import regexp_replace, concat_ws, sha2, rtrim\n",
    "from pyspark.sql.functions import unix_timestamp, from_unixtime, to_date\n",
    "from pyspark.sql.types import StructType, StructField\n",
    "from pyspark.sql.types import DoubleType, IntegerType, StringType\n",
    "from pyspark.sql import HiveContext\n",
    "\n",
    "from pyspark.sql.functions import regexp_replace\n",
    "from pyspark.sql.functions import when\n",
    "\n",
    "from pyspark.sql.functions import countDistinct #adicionei para fazer a contagem de maneira distinta\n",
    "\n",
    "spark = SparkSession.builder.master(\"local[*]\")\\\n",
    "    .enableHiveSupport()\\\n",
    "    .getOrCreate()"
   ]
  },
  {
   "cell_type": "markdown",
   "metadata": {},
   "source": [
    "### 01.Criar dataframes das tabelas que estão no hive"
   ]
  },
  {
   "cell_type": "code",
   "execution_count": 2,
   "metadata": {
    "scrolled": false
   },
   "outputs": [
    {
     "name": "stdout",
     "output_type": "stream",
     "text": [
      "+------------+---------------+-------------+\n",
      "|id_categoria|   ds_categoria|perc_parceiro|\n",
      "+------------+---------------+-------------+\n",
      "|           1|Categoria - 001|          2.0|\n",
      "|           2|Categoria - 002|          2.0|\n",
      "|           3|Categoria - 003|          2.0|\n",
      "|           4|Categoria - 004|          2.0|\n",
      "|           5|Categoria - 005|          5.0|\n",
      "|           6|Categoria - 006|          1.0|\n",
      "|           7|Categoria - 007|          5.0|\n",
      "|           8|Categoria - 008|          3.0|\n",
      "|           9|Categoria - 009|          5.0|\n",
      "|          10|Categoria - 010|          6.0|\n",
      "|          11|Categoria - 011|          6.0|\n",
      "|          12|Categoria - 012|          4.0|\n",
      "|          13|Categoria - 013|          3.0|\n",
      "|          14|Categoria - 014|          1.0|\n",
      "|          15|Categoria - 015|          4.0|\n",
      "|          16|Categoria - 016|          3.0|\n",
      "|          17|Categoria - 017|          5.0|\n",
      "|          18|Categoria - 018|          1.0|\n",
      "|          19|Categoria - 019|          2.0|\n",
      "|          20|Categoria - 020|          5.0|\n",
      "+------------+---------------+-------------+\n",
      "only showing top 20 rows\n",
      "\n"
     ]
    }
   ],
   "source": [
    "# Tabela Categorias\n",
    "df_categorias = spark.sql(\"\"\"\n",
    "                    SELECT *\n",
    "                    FROM desafio.categorias\n",
    "                    WHERE id_categoria != 'id_categoria'\n",
    "                    \"\"\")\n",
    "df_categorias.show()"
   ]
  },
  {
   "cell_type": "code",
   "execution_count": 3,
   "metadata": {},
   "outputs": [
    {
     "name": "stdout",
     "output_type": "stream",
     "text": [
      "+---------+----------------+---------+\n",
      "|id_cidade|       ds_cidade|id_estado|\n",
      "+---------+----------------+---------+\n",
      "|     1058|           Betim|        1|\n",
      "|       33|      ACRELANDIA|        2|\n",
      "|      485|    ASSIS BRASIL|        2|\n",
      "|      958|       BRASILEIA|        2|\n",
      "|     1388|        CAPIXABA|        2|\n",
      "|     1851| CRUZEIRO DO SUL|        2|\n",
      "|     2022|       Cravinhos|        2|\n",
      "|     2232|  EPITACIOLANDIA|        2|\n",
      "|     2347|           FEIJO|        2|\n",
      "|     3879|     MANCIO LIMA|        2|\n",
      "|     3895|   MANOEL URBANO|        2|\n",
      "|     5628|      RIO BRANCO|        2|\n",
      "|     5767|      Rio Branco|        2|\n",
      "|     6585|  SENA MADUREIRA|        2|\n",
      "|     6593|SENADOR GUIOMARD|        2|\n",
      "|     6845|       SÃO PAULO|        2|\n",
      "|     6987|        TARAUACA|        2|\n",
      "|     7241|      UBERLANDIA|        2|\n",
      "|     7535|          XAPURI|        2|\n",
      "|       59|     AGUA BRANCA|        3|\n",
      "+---------+----------------+---------+\n",
      "only showing top 20 rows\n",
      "\n"
     ]
    }
   ],
   "source": [
    "# Tabela cidade\n",
    "df_cidade = spark.sql(\"\"\"\n",
    "                SELECT *\n",
    "                FROM desafio.cidade\n",
    "                WHERE id_cidade != 'id_cidade'\n",
    "                \"\"\")\n",
    "df_cidade.show()"
   ]
  },
  {
   "cell_type": "code",
   "execution_count": 4,
   "metadata": {
    "scrolled": true
   },
   "outputs": [
    {
     "name": "stdout",
     "output_type": "stream",
     "text": [
      "+---------+---------+\n",
      "|id_estado|ds_estado|\n",
      "+---------+---------+\n",
      "|        1|       31|\n",
      "|        2|       AC|\n",
      "|        3|       AL|\n",
      "|        4|       AM|\n",
      "|        5|       AP|\n",
      "|        6|       BA|\n",
      "|        7|       CE|\n",
      "|        8|       DF|\n",
      "|        9|       Df|\n",
      "|       10|       ES|\n",
      "|       11|       GO|\n",
      "|       12|       Go|\n",
      "|       13|       MA|\n",
      "|       14|       MG|\n",
      "|       15|       MS|\n",
      "|       16|       MT|\n",
      "|       17|       Mg|\n",
      "|       18|       PA|\n",
      "|       19|       PB|\n",
      "|       20|       PE|\n",
      "+---------+---------+\n",
      "only showing top 20 rows\n",
      "\n"
     ]
    }
   ],
   "source": [
    "# Tabela estado\n",
    "df_estado = spark.sql(\"\"\"\n",
    "                SELECT *\n",
    "                FROM desafio.estado\n",
    "                WHERE id_estado != 'id_estado'\n",
    "                \"\"\")\n",
    "df_estado.show()"
   ]
  },
  {
   "cell_type": "code",
   "execution_count": 5,
   "metadata": {},
   "outputs": [
    {
     "name": "stdout",
     "output_type": "stream",
     "text": [
      "+----------+--------------------+---------+\n",
      "|id_cliente|          nm_cliente|flag_ouro|\n",
      "+----------+--------------------+---------+\n",
      "|  78262350|Cliente Magalu - ...|        0|\n",
      "|  57301020|Cliente Magalu - ...|        0|\n",
      "|   4639167|Cliente Magalu - ...|        1|\n",
      "|  53130287|Cliente Magalu - ...|        0|\n",
      "|  16456085|Cliente Magalu - ...|        0|\n",
      "| 124100202|Cliente Magalu - ...|        0|\n",
      "|  15659567|Cliente Magalu - ...|        0|\n",
      "|  37375617|Cliente Magalu - ...|        1|\n",
      "|  52082515|Cliente Magalu - ...|        0|\n",
      "|  56214875|Cliente Magalu - ...|        0|\n",
      "| 137980527|Cliente Magalu - ...|        0|\n",
      "|  11806492|Cliente Magalu - ...|        0|\n",
      "| 112690290|Cliente Magalu - ...|        1|\n",
      "| 120559842|Cliente Magalu - ...|        1|\n",
      "| 140697495|Cliente Magalu - ...|        0|\n",
      "|  64431627|Cliente Magalu - ...|        0|\n",
      "| 113852445|Cliente Magalu - ...|        1|\n",
      "|  51864985|Cliente Magalu - ...|        0|\n",
      "| 113068442|Cliente Magalu - ...|        0|\n",
      "|  71256730|Cliente Magalu - ...|        0|\n",
      "+----------+--------------------+---------+\n",
      "only showing top 20 rows\n",
      "\n"
     ]
    }
   ],
   "source": [
    "# Tabela clientes\n",
    "df_clientes = spark.sql(\"\"\"\n",
    "                    SELECT *\n",
    "                    FROM desafio.clientes\n",
    "                    WHERE id_cliente != 'id_cliente'\n",
    "                    \"\"\")\n",
    "df_clientes.show()"
   ]
  },
  {
   "cell_type": "code",
   "execution_count": 6,
   "metadata": {},
   "outputs": [
    {
     "name": "stdout",
     "output_type": "stream",
     "text": [
      "+---------+---------------+---------+\n",
      "|id_filial|      ds_filial|id_cidade|\n",
      "+---------+---------------+---------+\n",
      "|        6|Filial - 000006|       22|\n",
      "|        9|Filial - 000009|       22|\n",
      "|       88|Filial - 000088|       22|\n",
      "|       98|Filial - 000098|       22|\n",
      "|      118|Filial - 000118|       22|\n",
      "|      146|Filial - 000146|       22|\n",
      "|      223|Filial - 000223|       22|\n",
      "|      268|Filial - 000268|       22|\n",
      "|      353|Filial - 000353|       22|\n",
      "|      363|Filial - 000363|       22|\n",
      "|      372|Filial - 000372|       22|\n",
      "|      373|Filial - 000373|       22|\n",
      "|      417|Filial - 000417|       22|\n",
      "|      464|Filial - 000464|       22|\n",
      "|      470|Filial - 000470|       22|\n",
      "|      531|Filial - 000531|       22|\n",
      "|      538|Filial - 000538|       22|\n",
      "|      617|Filial - 000617|       22|\n",
      "|      620|Filial - 000620|       22|\n",
      "|      625|Filial - 000625|       22|\n",
      "+---------+---------------+---------+\n",
      "only showing top 20 rows\n",
      "\n"
     ]
    }
   ],
   "source": [
    "# Tabela filial\n",
    "df_filial = spark.sql(\"\"\"\n",
    "                SELECT *\n",
    "                FROM desafio.filial\n",
    "                WHERE id_filial != 'id_filial'\n",
    "                \"\"\")\n",
    "df_filial.show()"
   ]
  },
  {
   "cell_type": "code",
   "execution_count": 7,
   "metadata": {},
   "outputs": [
    {
     "name": "stdout",
     "output_type": "stream",
     "text": [
      "+----------+----------+----------+-----------+\n",
      "| id_pedido|ds_produto|quantidade|vr_unitario|\n",
      "+----------+----------+----------+-----------+\n",
      "|5110435076|   3848054|         1|   66494.87|\n",
      "|5031966676|    335303|         1|   60884.07|\n",
      "|5063831906|    326104|         1|   34475.87|\n",
      "|5045535526|    326104|         1|   34475.87|\n",
      "|5145353926|    326104|         1|   33456.67|\n",
      "|5113285456|    303661|         1|   28716.87|\n",
      "|5095723126|    303661|         1|   28716.87|\n",
      "|4926217626|    340405|         1|   25969.97|\n",
      "|5073258626|    340405|         1|   18394.87|\n",
      "|4726298756|    311407|         1|   17409.47|\n",
      "|5092165926|     54702|         1|   15826.07|\n",
      "|5149125256|    286704|         1|   14487.07|\n",
      "|5145353926|    376637|         1|   14168.57|\n",
      "|5033024306|   4325751|         2|   12999.74|\n",
      "|4922148256|   2639878|         1|   12500.67|\n",
      "|5062260076|    300478|         1|   12365.47|\n",
      "|5061964676|    300478|         1|   12365.47|\n",
      "|5052910156|   1362075|         1|   11971.57|\n",
      "|4752135456|   1534588|         1|   11959.87|\n",
      "|5063883826|    270336|         1|   11863.67|\n",
      "+----------+----------+----------+-----------+\n",
      "only showing top 20 rows\n",
      "\n"
     ]
    }
   ],
   "source": [
    "# Tabela item_pedido\n",
    "df_item_pedido = spark.sql(\"\"\"\n",
    "                        SELECT *\n",
    "                        FROM desafio.item_pedido\n",
    "                        WHERE id_pedido != 'id_pedido'\n",
    "                        ORDER BY vr_unitario DESC\n",
    "                        \"\"\")\n",
    "df_item_pedido.show()"
   ]
  },
  {
   "cell_type": "code",
   "execution_count": 8,
   "metadata": {
    "scrolled": true
   },
   "outputs": [
    {
     "name": "stdout",
     "output_type": "stream",
     "text": [
      "+-----------+--------------------+\n",
      "|id_parceiro|         nm_parceiro|\n",
      "+-----------+--------------------+\n",
      "|          1|Parceiro Magalu - 01|\n",
      "|          2|Parceiro Magalu - 02|\n",
      "|          3|Parceiro Magalu - 03|\n",
      "|          4|Parceiro Magalu - 04|\n",
      "|          5|Parceiro Magalu - 05|\n",
      "|          6|Parceiro Magalu - 06|\n",
      "|          7|Parceiro Magalu - 07|\n",
      "|          8|Parceiro Magalu - 08|\n",
      "|          9|Parceiro Magalu - 09|\n",
      "|         10|Parceiro Magalu - 10|\n",
      "|         11|Parceiro Magalu - 11|\n",
      "|         12|Parceiro Magalu - 12|\n",
      "|         13|Parceiro Magalu - 13|\n",
      "|         14|Parceiro Magalu - 14|\n",
      "|         15|Parceiro Magalu - 15|\n",
      "|         16|Parceiro Magalu - 16|\n",
      "+-----------+--------------------+\n",
      "\n"
     ]
    }
   ],
   "source": [
    "# Tabela parceiro\n",
    "df_parceiro = spark.sql(\"\"\"\n",
    "                    SELECT *\n",
    "                    FROM desafio.parceiro\n",
    "                    WHERE id_parceiro != 'id_parceiro'\n",
    "                    \"\"\")\n",
    "df_parceiro.show()"
   ]
  },
  {
   "cell_type": "code",
   "execution_count": 9,
   "metadata": {},
   "outputs": [
    {
     "name": "stdout",
     "output_type": "stream",
     "text": [
      "+----------+--------------------+---------------+\n",
      "|id_produto|          ds_produto|id_subcategoria|\n",
      "+----------+--------------------+---------------+\n",
      "|     12006|Produto - 0000012006|            572|\n",
      "|     45183|Produto - 0000045183|           2142|\n",
      "|     78905|Produto - 0000078905|            140|\n",
      "|     79758|Produto - 0000079758|           3132|\n",
      "|    117196|Produto - 0000117196|             96|\n",
      "|    169903|Produto - 0000169903|           1735|\n",
      "|    185406|Produto - 0000185406|             82|\n",
      "|    201415|Produto - 0000201415|           1519|\n",
      "|    284396|Produto - 0000284396|           3132|\n",
      "|    293376|Produto - 0000293376|           1309|\n",
      "|    299033|Produto - 0000299033|            336|\n",
      "|    301419|Produto - 0000301419|           2370|\n",
      "|    312382|Produto - 0000312382|           1610|\n",
      "|    315401|Produto - 0000315401|           2880|\n",
      "|    316342|Produto - 0000316342|           1236|\n",
      "|    335667|Produto - 0000335667|           3228|\n",
      "|    344427|Produto - 0000344427|           2925|\n",
      "|    384651|Produto - 0000384651|           3132|\n",
      "|    384922|Produto - 0000384922|           2300|\n",
      "|    389046|Produto - 0000389046|            314|\n",
      "+----------+--------------------+---------------+\n",
      "only showing top 20 rows\n",
      "\n"
     ]
    }
   ],
   "source": [
    "# Tabela produtos\n",
    "df_produtos = spark.sql(\"\"\"\n",
    "                    SELECT *\n",
    "                    FROM desafio.produtos\n",
    "                    WHERE id_produto != 'id_produto'\n",
    "                    \"\"\")\n",
    "df_produtos.show()"
   ]
  },
  {
   "cell_type": "code",
   "execution_count": 10,
   "metadata": {},
   "outputs": [
    {
     "name": "stdout",
     "output_type": "stream",
     "text": [
      "+---------------+--------------------+------------+\n",
      "|id_subcategoria|     ds_subcategoria|id_categoria|\n",
      "+---------------+--------------------+------------+\n",
      "|            132|Sub-categoria - 0...|           1|\n",
      "|            137|Sub-categoria - 0...|           1|\n",
      "|            288|Sub-categoria - 0...|           1|\n",
      "|            380|Sub-categoria - 0...|           1|\n",
      "|            397|Sub-categoria - 0...|           1|\n",
      "|            498|Sub-categoria - 0...|           1|\n",
      "|            508|Sub-categoria - 0...|           1|\n",
      "|            514|Sub-categoria - 0...|           1|\n",
      "|            586|Sub-categoria - 0...|           1|\n",
      "|            668|Sub-categoria - 0...|           1|\n",
      "|            751|Sub-categoria - 0...|           1|\n",
      "|            923|Sub-categoria - 0...|           1|\n",
      "|           1040|Sub-categoria - 0...|           1|\n",
      "|           1170|Sub-categoria - 0...|           1|\n",
      "|           1211|Sub-categoria - 0...|           1|\n",
      "|           1426|Sub-categoria - 0...|           1|\n",
      "|           1459|Sub-categoria - 0...|           1|\n",
      "|           1466|Sub-categoria - 0...|           1|\n",
      "|           1483|Sub-categoria - 0...|           1|\n",
      "|           1486|Sub-categoria - 0...|           1|\n",
      "+---------------+--------------------+------------+\n",
      "only showing top 20 rows\n",
      "\n"
     ]
    }
   ],
   "source": [
    "# Tabela subcategoria\n",
    "df_subcategoria = spark.sql(\"\"\"\n",
    "                        SELECT *\n",
    "                        FROM desafio.subcategoria\n",
    "                        WHERE id_subcategoria != 'id_subcategoria'\n",
    "                        \"\"\")\n",
    "df_subcategoria.show()"
   ]
  },
  {
   "cell_type": "code",
   "execution_count": 11,
   "metadata": {
    "scrolled": true
   },
   "outputs": [
    {
     "name": "stdout",
     "output_type": "stream",
     "text": [
      "+-----------+--------------------+-----------+----------+---------+-------------+\n",
      "|  id_pedido|           dt_pedido|id_parceiro|id_cliente|id_filial|vr_total_pago|\n",
      "+-----------+--------------------+-----------+----------+---------+-------------+\n",
      "|48013645016|2021-07-02T00:00:...|         16|  58591422|      228|     124470.0|\n",
      "| 4818997673|2021-07-06T00:00:...|          3|  38004395|        4|      98267.0|\n",
      "|49910739213|2021-08-12T00:00:...|         13|   9321272|      257|      81783.0|\n",
      "| 4944110276|2021-08-02T00:00:...|          6|  44584572|      231|      75387.0|\n",
      "|47907758013|2021-06-30T00:00:...|         13|   7397225|      231|      70185.7|\n",
      "| 5110435076|2021-09-08T00:00:...|          6| 146694647|        3|     66494.87|\n",
      "|47127533716|2021-06-12T00:00:...|         16|  56298357|        3|     64069.12|\n",
      "| 5031966676|2021-08-20T00:00:...|          6|  20580847|      329|     60884.07|\n",
      "|47769750516|2021-06-27T00:00:...|         16|  58591422|      228|     59426.56|\n",
      "|46793901716|2021-06-05T00:00:...|         16|  58591422|      257|      51998.7|\n",
      "| 4901534006|2021-07-23T00:00:...|          6| 140434155|      430|      51491.7|\n",
      "| 4944186006|2021-08-02T00:00:...|          6|  44584572|      231|     48247.68|\n",
      "| 5145353926|2021-09-14T00:00:...|          6| 147269002|      342|     47625.24|\n",
      "| 4810162726|2021-07-05T00:00:...|          6| 130331977|        3|      45370.0|\n",
      "| 5052648526|2021-08-25T00:00:...|          6|  70849590|      228|     44087.68|\n",
      "| 4682084776|2021-06-06T00:00:...|          6|  64507085|       99|      42887.0|\n",
      "|47908319213|2021-06-30T00:00:...|         13|   7397225|      231|     39459.05|\n",
      "|49235898013|2021-07-28T00:00:...|         13|   4182082|     1623|      38996.1|\n",
      "| 4991129556|2021-08-12T00:00:...|          6|  35130592|      257|      38987.0|\n",
      "| 5078166606|2021-08-31T00:00:...|          6|  84899772|      257|      36647.0|\n",
      "+-----------+--------------------+-----------+----------+---------+-------------+\n",
      "only showing top 20 rows\n",
      "\n"
     ]
    }
   ],
   "source": [
    "# Tabela pedido\n",
    "df_pedido = spark.sql(\"\"\"\n",
    "                    SELECT *\n",
    "                    FROM desafio.pedido\n",
    "                    WHERE id_pedido != 'id_pedido'\n",
    "                    ORDER BY vr_total_pago DESC\n",
    "                    \"\"\")\n",
    "df_pedido.show()"
   ]
  },
  {
   "cell_type": "markdown",
   "metadata": {},
   "source": [
    "### 02.Criar um dataframe (df_pedidos) esta dataframe deve ser a união de pedido e item_pedido;"
   ]
  },
  {
   "cell_type": "code",
   "execution_count": 12,
   "metadata": {},
   "outputs": [],
   "source": [
    "df_pedido.createOrReplaceTempView(\"pedido\")\n",
    "df_item_pedido.createOrReplaceTempView(\"item_pedido\")"
   ]
  },
  {
   "cell_type": "code",
   "execution_count": 13,
   "metadata": {
    "scrolled": true
   },
   "outputs": [
    {
     "name": "stdout",
     "output_type": "stream",
     "text": [
      "+-----------+--------------------+-----------+----------+---------+-------------+----------+----------+-----------+\n",
      "|  id_pedido|           dt_pedido|id_parceiro|id_cliente|id_filial|vr_total_pago|ds_produto|quantidade|vr_unitario|\n",
      "+-----------+--------------------+-----------+----------+---------+-------------+----------+----------+-----------+\n",
      "|49910739213|2021-08-12T00:00:...|         13|   9321272|      257|      81783.0|   4900032|        30|     2726.1|\n",
      "|46980515513|2021-06-09T00:00:...|         13|  34273805|      257|      25994.8|    947447|        20|    1299.74|\n",
      "|49201060213|2021-07-28T00:00:...|         13|   4182082|       45|      11373.4|   4679659|        10|     909.87|\n",
      "|49442397513|2021-08-02T00:00:...|         13|  10775562|      231|       1298.7|   1082672|        10|     129.87|\n",
      "|49096084213|2021-07-25T00:00:...|         13| 121622115|        3|       5850.0|   3806899|        10|      585.0|\n",
      "|50278586216|2021-08-19T00:00:...|         16|  12118877|      480|        778.7|   4623416|        10|      77.87|\n",
      "| 5030035725|2021-08-19T00:00:...|          5|  30658822|     1584|       1547.0|   2858081|        10|      154.7|\n",
      "|48787804016|2021-07-19T00:00:...|         16|  41971222|      489|       2858.7|   2812279|        10|     285.87|\n",
      "|48472525013|2021-07-12T00:00:...|         13|   3548435|      231|      10398.7|   3795044|        10|    1039.87|\n",
      "| 4782742853|2021-06-28T00:00:...|          3|  73645027|        3|      33007.0|    242439|        10|     3300.7|\n",
      "| 5031230276|2021-08-19T00:00:...|          6| 140930910|        3|      16887.0|     84657|        10|     1688.7|\n",
      "| 4903468725|2021-07-24T00:00:...|          5| 143012522|      257|        767.0|   1773048|        10|       76.7|\n",
      "| 4985531705|2021-08-11T00:00:...|          5| 144468017|      276|       1157.0|   2174820|        10|      115.7|\n",
      "| 4863066605|2021-07-15T00:00:...|          5|  32421995|        3|        507.0|     36314|        10|       50.7|\n",
      "| 5154428706|2021-09-16T00:00:...|          6|    454657|        4|       1937.0|   4019717|        10|      193.7|\n",
      "| 5014644275|2021-08-17T00:00:...|          5|  68429130|      329|       3237.0|   3924629|        10|      323.7|\n",
      "|47337283513|2021-06-17T00:00:...|         13|  36510245|      257|     16924.69|   2510726|        10|    1689.87|\n",
      "|50595625513|2021-08-26T00:00:...|         13| 122514555|        3|       7798.7|    900091|        10|     779.87|\n",
      "|47967789513|2021-07-01T00:00:...|         13|  35803372|      231|       3898.7|   4974191|        10|     389.87|\n",
      "|48000315013|2021-07-02T00:00:...|         13|  66925440|        4|      12998.7|   4627155|        10|    1299.87|\n",
      "+-----------+--------------------+-----------+----------+---------+-------------+----------+----------+-----------+\n",
      "only showing top 20 rows\n",
      "\n"
     ]
    }
   ],
   "source": [
    "query = \"\"\"\n",
    "        SELECT\n",
    "            P.*,\n",
    "            IP.ds_produto,\n",
    "            IP.quantidade,\n",
    "            IP.vr_unitario\n",
    "        FROM\n",
    "            pedido as P\n",
    "        JOIN item_pedido AS IP\n",
    "        ON\n",
    "            P.id_pedido = IP.id_pedido\n",
    "        ORDER BY quantidade DESC\n",
    "        \"\"\"\n",
    "\n",
    "df_pedidos = spark.sql(query)\n",
    "df_pedidos.filter(df_pedidos[\"id_pedido\"] != \"id_pedido\").show()"
   ]
  },
  {
   "cell_type": "markdown",
   "metadata": {},
   "source": [
    "#### 2.1.Ver a quantidade de pedidos?"
   ]
  },
  {
   "cell_type": "code",
   "execution_count": 14,
   "metadata": {},
   "outputs": [
    {
     "name": "stdout",
     "output_type": "stream",
     "text": [
      "A quantidade de pedidos é de:733471\n"
     ]
    }
   ],
   "source": [
    "qtd_pedidos = df_pedidos.select(\"id_pedido\").distinct().count()\n",
    "print(f\"A quantidade de pedidos é de:{qtd_pedidos}\")"
   ]
  },
  {
   "cell_type": "markdown",
   "metadata": {},
   "source": [
    "#### 2.2.Quantidade de produtos e agrupa-los por pedido"
   ]
  },
  {
   "cell_type": "code",
   "execution_count": 15,
   "metadata": {
    "scrolled": true
   },
   "outputs": [
    {
     "name": "stdout",
     "output_type": "stream",
     "text": [
      "+-----------+-------------------+\n",
      "|  id_pedido|quantidade_produtos|\n",
      "+-----------+-------------------+\n",
      "|49001989016|                 50|\n",
      "|48013645016|                 45|\n",
      "|48483039513|                 40|\n",
      "|47272431213|                 40|\n",
      "|48704946213|                 40|\n",
      "|48265171013|                 36|\n",
      "|47769750516|                 32|\n",
      "|50903766713|                 31|\n",
      "|47741988510|                 30|\n",
      "|51367310716|                 30|\n",
      "|48394480213|                 30|\n",
      "|48112853213|                 30|\n",
      "|49910739213|                 30|\n",
      "|48456340013|                 30|\n",
      "|48474595213|                 30|\n",
      "|46972298716|                 30|\n",
      "|49284138513|                 30|\n",
      "|48813362513|                 30|\n",
      "|49235898013|                 30|\n",
      "|50463604513|                 28|\n",
      "+-----------+-------------------+\n",
      "only showing top 20 rows\n",
      "\n"
     ]
    }
   ],
   "source": [
    "produtos_pedido = (df_pedidos\n",
    "                   .groupby(\"id_pedido\")\n",
    "                   .agg(sum(\"quantidade\")\n",
    "                        .alias(\"quantidade_produtos\"))\n",
    "                   .orderBy(\"quantidade_produtos\", ascending=False))\n",
    "produtos_pedido.show()"
   ]
  },
  {
   "cell_type": "markdown",
   "metadata": {},
   "source": [
    "#### 2.3.Quantidade de pedidos por cliente"
   ]
  },
  {
   "cell_type": "code",
   "execution_count": 16,
   "metadata": {
    "scrolled": false
   },
   "outputs": [
    {
     "name": "stdout",
     "output_type": "stream",
     "text": [
      "+----------+-------------------+\n",
      "|id_cliente|pedidos_por_cliente|\n",
      "+----------+-------------------+\n",
      "|  19912727|                182|\n",
      "| 133452557|                174|\n",
      "| 125627750|                120|\n",
      "|  13565460|                112|\n",
      "|  20325327|                 97|\n",
      "|  32115700|                 76|\n",
      "|  10344587|                 68|\n",
      "|   4806975|                 67|\n",
      "|   1501190|                 66|\n",
      "|  90954057|                 66|\n",
      "|  97294812|                 65|\n",
      "| 105584482|                 58|\n",
      "| 119699252|                 55|\n",
      "|  41453777|                 53|\n",
      "|  62353192|                 52|\n",
      "| 124140150|                 50|\n",
      "|  16352982|                 47|\n",
      "|  54170967|                 47|\n",
      "| 138871907|                 46|\n",
      "|  65586217|                 45|\n",
      "+----------+-------------------+\n",
      "only showing top 20 rows\n",
      "\n"
     ]
    }
   ],
   "source": [
    "qtd_pedido_cliente = (df_pedidos\n",
    "                      .groupby(\"id_cliente\")\n",
    "                      .agg(countDistinct(\"id_pedido\")\n",
    "                           .alias(\"pedidos_por_cliente\"))\n",
    "                      .orderBy(\"pedidos_por_cliente\", ascending=False))\n",
    "qtd_pedido_cliente.show()"
   ]
  },
  {
   "cell_type": "markdown",
   "metadata": {},
   "source": [
    "#### 2.4.Quantidade de pedidos por parceiro"
   ]
  },
  {
   "cell_type": "code",
   "execution_count": 17,
   "metadata": {
    "scrolled": false
   },
   "outputs": [
    {
     "name": "stdout",
     "output_type": "stream",
     "text": [
      "+-----------+----------------+\n",
      "|id_parceiro|pedidos_parceiro|\n",
      "+-----------+----------------+\n",
      "|         16|          332413|\n",
      "|         13|          306170|\n",
      "|          6|           62142|\n",
      "|          5|           19193|\n",
      "|         10|            8822|\n",
      "|          3|            3408|\n",
      "|          1|             705|\n",
      "|         11|             446|\n",
      "|          4|              88|\n",
      "|          8|              44|\n",
      "|          2|              40|\n",
      "+-----------+----------------+\n",
      "\n"
     ]
    }
   ],
   "source": [
    "qtd_pedido_parceiro = (df_pedidos\n",
    "                       .groupby(\"id_parceiro\")\n",
    "                       .agg(countDistinct(\"id_pedido\")\n",
    "                            .alias(\"pedidos_parceiro\"))\n",
    "                       .orderBy(\"pedidos_parceiro\", ascending=False))\n",
    "qtd_pedido_parceiro.show()"
   ]
  },
  {
   "cell_type": "markdown",
   "metadata": {},
   "source": [
    "#### 2.5.Quantidade de pedido por filial"
   ]
  },
  {
   "cell_type": "code",
   "execution_count": 18,
   "metadata": {},
   "outputs": [
    {
     "name": "stdout",
     "output_type": "stream",
     "text": [
      "+---------+--------------+\n",
      "|id_filial|pedidos_filial|\n",
      "+---------+--------------+\n",
      "|      231|        204263|\n",
      "|        3|        181948|\n",
      "|      257|         19380|\n",
      "|      883|         15514|\n",
      "|      228|         14119|\n",
      "|      366|         12327|\n",
      "|      494|         12214|\n",
      "|      117|         11741|\n",
      "|      547|          9831|\n",
      "|     1680|          7995|\n",
      "|      276|          7376|\n",
      "|     1692|          7083|\n",
      "|      439|          7056|\n",
      "|      229|          6937|\n",
      "|      435|          6728|\n",
      "|        4|          6270|\n",
      "|      141|          5961|\n",
      "|      224|          5471|\n",
      "|      884|          5136|\n",
      "|     1730|          3728|\n",
      "+---------+--------------+\n",
      "only showing top 20 rows\n",
      "\n"
     ]
    }
   ],
   "source": [
    "qtd_pedido_filial = (df_pedidos\n",
    "                     .groupby(\"id_filial\")\n",
    "                     .agg(countDistinct(\"id_pedido\")\n",
    "                          .alias(\"pedidos_filial\"))\n",
    "                     .orderBy(\"pedidos_filial\", ascending=False))\n",
    "qtd_pedido_filial.show()"
   ]
  },
  {
   "cell_type": "markdown",
   "metadata": {},
   "source": [
    "### 03.Juntar criar df_filial que deverá ser a junção das tabelas filial, cidade e estado;"
   ]
  },
  {
   "cell_type": "code",
   "execution_count": 19,
   "metadata": {},
   "outputs": [],
   "source": [
    "df_filial.createOrReplaceTempView(\"filial\")\n",
    "df_cidade.createOrReplaceTempView(\"cidade\")\n",
    "df_estado.createOrReplaceTempView(\"estado\")"
   ]
  },
  {
   "cell_type": "code",
   "execution_count": 20,
   "metadata": {},
   "outputs": [
    {
     "name": "stdout",
     "output_type": "stream",
     "text": [
      "+---------+---------+---------+---------------+-----------+---------+\n",
      "|id_filial|id_cidade|id_estado|      ds_filial|  ds_cidade|ds_estado|\n",
      "+---------+---------+---------+---------------+-----------+---------+\n",
      "|      151|     7241|        2|Filial - 000151| UBERLANDIA|       AC|\n",
      "|     1514|       59|        3|Filial - 001514|AGUA BRANCA|       AL|\n",
      "|     1431|       59|        3|Filial - 001431|AGUA BRANCA|       AL|\n",
      "|     1423|       59|        3|Filial - 001423|AGUA BRANCA|       AL|\n",
      "|     1312|       59|        3|Filial - 001312|AGUA BRANCA|       AL|\n",
      "|     1063|       59|        3|Filial - 001063|AGUA BRANCA|       AL|\n",
      "|     1006|       59|        3|Filial - 001006|AGUA BRANCA|       AL|\n",
      "|      946|       59|        3|Filial - 000946|AGUA BRANCA|       AL|\n",
      "|      813|       59|        3|Filial - 000813|AGUA BRANCA|       AL|\n",
      "|      682|       59|        3|Filial - 000682|AGUA BRANCA|       AL|\n",
      "|      611|       59|        3|Filial - 000611|AGUA BRANCA|       AL|\n",
      "|      603|       59|        3|Filial - 000603|AGUA BRANCA|       AL|\n",
      "|      590|       59|        3|Filial - 000590|AGUA BRANCA|       AL|\n",
      "|      468|       59|        3|Filial - 000468|AGUA BRANCA|       AL|\n",
      "|      414|       59|        3|Filial - 000414|AGUA BRANCA|       AL|\n",
      "|       48|       59|        3|Filial - 000048|AGUA BRANCA|       AL|\n",
      "|     1553|      248|        3|Filial - 001553|     ANADIA|       AL|\n",
      "|     1387|      248|        3|Filial - 001387|     ANADIA|       AL|\n",
      "|     1238|      248|        3|Filial - 001238|     ANADIA|       AL|\n",
      "|      817|      248|        3|Filial - 000817|     ANADIA|       AL|\n",
      "+---------+---------+---------+---------------+-----------+---------+\n",
      "only showing top 20 rows\n",
      "\n"
     ]
    }
   ],
   "source": [
    "query = \"\"\"\n",
    "        SELECT\n",
    "            F.id_filial,\n",
    "            C.id_cidade,\n",
    "            E.id_estado,\n",
    "            F.ds_filial,\n",
    "            C.ds_cidade,\n",
    "            E.ds_estado\n",
    "        FROM\n",
    "            filial AS F\n",
    "        JOIN\n",
    "            cidade AS C ON F.id_cidade = C.id_cidade\n",
    "        JOIN\n",
    "            estado AS E ON C.id_estado = E.id_estado\n",
    "        \"\"\"\n",
    "\n",
    "df_filiais = spark.sql(query)\n",
    "df_filiais.filter(df_filiais[\"id_filial\"] != \"id_filial\").show()"
   ]
  },
  {
   "cell_type": "markdown",
   "metadata": {},
   "source": [
    "#### 3.1.Juntar com o df_pedidos"
   ]
  },
  {
   "cell_type": "code",
   "execution_count": 21,
   "metadata": {},
   "outputs": [],
   "source": [
    "df_pedidos.createOrReplaceTempView(\"pedidos\")\n",
    "df_filiais.createOrReplaceTempView(\"filiais\")"
   ]
  },
  {
   "cell_type": "code",
   "execution_count": 22,
   "metadata": {},
   "outputs": [
    {
     "name": "stdout",
     "output_type": "stream",
     "text": [
      "+-----------+------------------------+-----------+----------+---------+-------------+----------+----------+-----------+---------+---------+----------------+---------+---------------+\n",
      "|id_pedido  |dt_pedido               |id_parceiro|id_cliente|id_filial|vr_total_pago|ds_produto|quantidade|vr_unitario|id_cidade|id_estado|ds_cidade       |ds_estado|ds_filial      |\n",
      "+-----------+------------------------+-----------+----------+---------+-------------+----------+----------+-----------+---------+---------+----------------+---------+---------------+\n",
      "|48443031713|2021-07-12T00:00:00.000Z|13         |136800692 |1090     |129.99       |4335308   |1         |129.99     |737      |33       |BARUERI         |SP       |Filial - 001090|\n",
      "|48472409513|2021-07-12T00:00:00.000Z|13         |69267635  |1090     |259.99       |1375916   |1         |259.99     |737      |33       |BARUERI         |SP       |Filial - 001090|\n",
      "|48454600516|2021-07-12T00:00:00.000Z|16         |48611362  |1090     |38.99        |1087204   |1         |38.99      |737      |33       |BARUERI         |SP       |Filial - 001090|\n",
      "|48474015213|2021-07-12T00:00:00.000Z|13         |110762017 |1090     |181.99       |3007703   |1         |181.99     |737      |33       |BARUERI         |SP       |Filial - 001090|\n",
      "|48433649513|2021-07-12T00:00:00.000Z|13         |114725005 |1090     |194.99       |2450167   |1         |194.99     |737      |33       |BARUERI         |SP       |Filial - 001090|\n",
      "|48469345716|2021-07-12T00:00:00.000Z|16         |64085032  |1090     |106.59       |866295    |1         |106.59     |737      |33       |BARUERI         |SP       |Filial - 001090|\n",
      "|48477626716|2021-07-13T00:00:00.000Z|16         |140176892 |1090     |131.23       |3429400   |1         |71.44      |737      |33       |BARUERI         |SP       |Filial - 001090|\n",
      "|48477626716|2021-07-13T00:00:00.000Z|16         |140176892 |1090     |131.23       |4876008   |1         |59.79      |737      |33       |BARUERI         |SP       |Filial - 001090|\n",
      "|48470836213|2021-07-12T00:00:00.000Z|13         |46721527  |1090     |389.98       |2120894   |1         |207.99     |737      |33       |BARUERI         |SP       |Filial - 001090|\n",
      "|48470836213|2021-07-12T00:00:00.000Z|13         |46721527  |1090     |389.98       |1869081   |1         |181.99     |737      |33       |BARUERI         |SP       |Filial - 001090|\n",
      "|48442153513|2021-07-12T00:00:00.000Z|13         |50397032  |1090     |45.49        |2780304   |1         |45.49      |737      |33       |BARUERI         |SP       |Filial - 001090|\n",
      "|48446389013|2021-07-12T00:00:00.000Z|13         |45217500  |1090     |103.99       |1160225   |1         |103.99     |737      |33       |BARUERI         |SP       |Filial - 001090|\n",
      "|49098483713|2021-07-25T00:00:00.000Z|13         |63531597  |1159     |71.49        |3190936   |1         |71.49      |234      |6        |AMELIA RODRIGUES|BA       |Filial - 001159|\n",
      "|49078822016|2021-07-25T00:00:00.000Z|16         |76511377  |1159     |90.99        |3134007   |1         |90.99      |234      |6        |AMELIA RODRIGUES|BA       |Filial - 001159|\n",
      "|49147908013|2021-07-26T00:00:00.000Z|13         |13997207  |1159     |259.99       |2380477   |1         |259.99     |234      |6        |AMELIA RODRIGUES|BA       |Filial - 001159|\n",
      "|4910176376 |2021-07-25T00:00:00.000Z|6          |54512730  |1159     |259.87       |287907    |1         |259.87     |234      |6        |AMELIA RODRIGUES|BA       |Filial - 001159|\n",
      "|49073085016|2021-07-25T00:00:00.000Z|16         |28884510  |1159     |131.27       |678641    |1         |44.19      |234      |6        |AMELIA RODRIGUES|BA       |Filial - 001159|\n",
      "|49073085016|2021-07-25T00:00:00.000Z|16         |28884510  |1159     |131.27       |1867788   |1         |44.19      |234      |6        |AMELIA RODRIGUES|BA       |Filial - 001159|\n",
      "|49073085016|2021-07-25T00:00:00.000Z|16         |28884510  |1159     |131.27       |2899106   |1         |42.89      |234      |6        |AMELIA RODRIGUES|BA       |Filial - 001159|\n",
      "|49074817016|2021-07-25T00:00:00.000Z|16         |4193435   |1159     |42.89        |2899106   |1         |42.89      |234      |6        |AMELIA RODRIGUES|BA       |Filial - 001159|\n",
      "+-----------+------------------------+-----------+----------+---------+-------------+----------+----------+-----------+---------+---------+----------------+---------+---------------+\n",
      "only showing top 20 rows\n",
      "\n"
     ]
    }
   ],
   "source": [
    "query = \"\"\"\n",
    "        SELECT\n",
    "            P.*,\n",
    "            F.id_cidade,\n",
    "            F.id_estado,\n",
    "            F.ds_cidade,\n",
    "            F.ds_estado,\n",
    "            F.ds_filial\n",
    "        FROM\n",
    "            pedidos AS P\n",
    "        JOIN\n",
    "            filiais AS F ON P.id_filial = F.id_filial\n",
    "        \"\"\"\n",
    "\n",
    "df_pedidos_filiais = spark.sql(query)\n",
    "df_pedidos_filiais.show(truncate=False)"
   ]
  },
  {
   "cell_type": "markdown",
   "metadata": {},
   "source": [
    "#### 3.2.Ver a quantidade de pedidos por estado"
   ]
  },
  {
   "cell_type": "code",
   "execution_count": 23,
   "metadata": {},
   "outputs": [
    {
     "name": "stdout",
     "output_type": "stream",
     "text": [
      "+---------+---------+------------------+\n",
      "|id_estado|ds_estado|pedidos_por_estado|\n",
      "+---------+---------+------------------+\n",
      "|       14|       MG|            317571|\n",
      "|       18|       PA|            235021|\n",
      "|       11|       GO|             36273|\n",
      "|       20|       PE|             36204|\n",
      "|       31|       SC|             26252|\n",
      "|       33|       SP|             14683|\n",
      "|       13|       MA|             13833|\n",
      "|        6|       BA|             10541|\n",
      "|       28|       RS|              9024|\n",
      "|        7|       CE|              8042|\n",
      "|       22|       PR|              7315|\n",
      "|       25|       RN|              5419|\n",
      "|        3|       AL|              2822|\n",
      "|       10|       ES|              2308|\n",
      "|       32|       SE|              2202|\n",
      "|       19|       PB|              1992|\n",
      "|       21|       PI|              1213|\n",
      "|       24|       RJ|              1189|\n",
      "|       16|       MT|               675|\n",
      "|        8|       DF|               461|\n",
      "|       15|       MS|               270|\n",
      "|       35|       TO|               118|\n",
      "|       26|       RO|                39|\n",
      "|        4|       AM|                 3|\n",
      "|        2|       AC|                 1|\n",
      "+---------+---------+------------------+\n",
      "\n"
     ]
    }
   ],
   "source": [
    "df_pedidos_por_estado = (df_pedidos_filiais\n",
    "                      .groupBy(\"id_estado\", \"ds_estado\")\n",
    "                      .agg(countDistinct(\"id_pedido\").alias(\"pedidos_por_estado\"))\n",
    "                      .orderBy(\"pedidos_por_estado\", ascending=False))\n",
    "df_pedidos_por_estado.show(27)"
   ]
  },
  {
   "cell_type": "markdown",
   "metadata": {},
   "source": [
    "#### 3.3.Top 10 filial que mais vendeu"
   ]
  },
  {
   "cell_type": "code",
   "execution_count": 24,
   "metadata": {},
   "outputs": [
    {
     "name": "stdout",
     "output_type": "stream",
     "text": [
      "+---------+---------------+-------------+\n",
      "|id_filial|      ds_filial|volume_vendas|\n",
      "+---------+---------------+-------------+\n",
      "|      231|Filial - 000231|       240806|\n",
      "|        3|Filial - 000003|       220768|\n",
      "|      257|Filial - 000257|        23725|\n",
      "|      883|Filial - 000883|        17717|\n",
      "|      228|Filial - 000228|        15851|\n",
      "|      366|Filial - 000366|        13735|\n",
      "|      494|Filial - 000494|        13461|\n",
      "|      117|Filial - 000117|        13459|\n",
      "|      547|Filial - 000547|        11169|\n",
      "|     1680|Filial - 001680|         9531|\n",
      "+---------+---------------+-------------+\n",
      "only showing top 10 rows\n",
      "\n"
     ]
    }
   ],
   "source": [
    "df_vendas_por_filial = (df_pedidos_filiais\n",
    "                     .groupBy(\"id_filial\", \"ds_filial\")\n",
    "                     .agg(round(sum(\"quantidade\"), 2).alias(\"volume_vendas\"))\n",
    "                     .orderBy(\"volume_vendas\", ascending=False))\n",
    "df_vendas_por_filial.show(10)"
   ]
  },
  {
   "cell_type": "markdown",
   "metadata": {},
   "source": [
    "### 04.Criar o dataframe df_stage juntando todas as bases do nosso modelo relacional"
   ]
  },
  {
   "cell_type": "code",
   "execution_count": 25,
   "metadata": {},
   "outputs": [
    {
     "name": "stdout",
     "output_type": "stream",
     "text": [
      "+-----------+------------------------+-----------+----------+---------+-------------+----------+----------+-----------+--------------------+---------------------------+---------+---------------+---------+---------------+---------+---------+\n",
      "|id_pedido  |dt_pedido               |id_parceiro|id_cliente|id_filial|vr_total_pago|ds_produto|quantidade|vr_unitario|nm_parceiro         |nm_cliente                 |flag_ouro|ds_filial      |id_cidade|ds_cidade      |id_estado|ds_estado|\n",
      "+-----------+------------------------+-----------+----------+---------+-------------+----------+----------+-----------+--------------------+---------------------------+---------+---------------+---------+---------------+---------+---------+\n",
      "|49523668016|2021-08-03T00:00:00.000Z|16         |100041455 |231      |64.99        |2548610   |1         |64.99      |Parceiro Magalu - 16|Cliente Magalu - 0100041455|0        |Filial - 000231|2        |(LEOPOLDINA)   |14       |MG       |\n",
      "|48347149016|2021-07-09T00:00:00.000Z|16         |100194305 |3        |55.89        |1207789   |1         |55.89      |Parceiro Magalu - 16|Cliente Magalu - 0100194305|0        |Filial - 000003|1        |(BARCARENA)    |18       |PA       |\n",
      "|47109143513|2021-06-12T00:00:00.000Z|13         |100220472 |94       |155.99       |4538653   |1         |155.99     |Parceiro Magalu - 13|Cliente Magalu - 0100220472|0        |Filial - 000094|3        |ABADIA DE GOIAS|11       |GO       |\n",
      "|47109807213|2021-06-12T00:00:00.000Z|13         |100220472 |94       |77.99        |3722834   |1         |77.99      |Parceiro Magalu - 13|Cliente Magalu - 0100220472|0        |Filial - 000094|3        |ABADIA DE GOIAS|11       |GO       |\n",
      "|47230296513|2021-06-15T00:00:00.000Z|13         |100245497 |494      |454.99       |790103    |1         |454.99     |Parceiro Magalu - 13|Cliente Magalu - 0100245497|0        |Filial - 000494|6        |ABAETE         |14       |MG       |\n",
      "|49841149016|2021-08-11T00:00:00.000Z|16         |100294545 |3        |53.29        |2393919   |1         |53.29      |Parceiro Magalu - 16|Cliente Magalu - 0100294545|1        |Filial - 000003|1        |(BARCARENA)    |18       |PA       |\n",
      "|49063943013|2021-07-24T00:00:00.000Z|13         |10034090  |231      |84.49        |3618356   |1         |84.49      |Parceiro Magalu - 13|Cliente Magalu - 0010034090|0        |Filial - 000231|2        |(LEOPOLDINA)   |14       |MG       |\n",
      "|49024430213|2021-07-23T00:00:00.000Z|13         |100632917 |231      |77.99        |1440590   |1         |77.99      |Parceiro Magalu - 13|Cliente Magalu - 0100632917|0        |Filial - 000231|2        |(LEOPOLDINA)   |14       |MG       |\n",
      "|48293426513|2021-07-08T00:00:00.000Z|13         |100632917 |231      |103.99       |3107743   |1         |103.99     |Parceiro Magalu - 13|Cliente Magalu - 0100632917|0        |Filial - 000231|2        |(LEOPOLDINA)   |14       |MG       |\n",
      "|50690320216|2021-08-29T00:00:00.000Z|16         |10075870  |224      |233.99       |4915226   |1         |233.99     |Parceiro Magalu - 16|Cliente Magalu - 0010075870|0        |Filial - 000224|6        |ABAETE         |14       |MG       |\n",
      "|49732277013|2021-08-08T00:00:00.000Z|13         |10080455  |3        |363.99       |3767837   |1         |363.99     |Parceiro Magalu - 13|Cliente Magalu - 0010080455|1        |Filial - 000003|1        |(BARCARENA)    |18       |PA       |\n",
      "|48599173216|2021-07-15T00:00:00.000Z|16         |10086262  |3        |168.99       |1596770   |1         |168.99     |Parceiro Magalu - 16|Cliente Magalu - 0010086262|1        |Filial - 000003|1        |(BARCARENA)    |18       |PA       |\n",
      "|49568219013|2021-08-04T00:00:00.000Z|13         |100923845 |3        |558.97       |4128836   |1         |220.99     |Parceiro Magalu - 13|Cliente Magalu - 0100923845|0        |Filial - 000003|1        |(BARCARENA)    |18       |PA       |\n",
      "|49568219013|2021-08-04T00:00:00.000Z|13         |100923845 |3        |558.97       |2392161   |1         |168.99     |Parceiro Magalu - 13|Cliente Magalu - 0100923845|0        |Filial - 000003|1        |(BARCARENA)    |18       |PA       |\n",
      "|49568219013|2021-08-04T00:00:00.000Z|13         |100923845 |3        |558.97       |2361244   |1         |168.99     |Parceiro Magalu - 13|Cliente Magalu - 0100923845|0        |Filial - 000003|1        |(BARCARENA)    |18       |PA       |\n",
      "|46918303513|2021-06-08T00:00:00.000Z|13         |100958260 |231      |194.99       |4006221   |1         |194.99     |Parceiro Magalu - 13|Cliente Magalu - 0100958260|1        |Filial - 000231|2        |(LEOPOLDINA)   |14       |MG       |\n",
      "|49523386513|2021-08-03T00:00:00.000Z|13         |10099437  |3        |194.99       |2297136   |1         |194.99     |Parceiro Magalu - 13|Cliente Magalu - 0010099437|0        |Filial - 000003|1        |(BARCARENA)    |18       |PA       |\n",
      "|4814044926 |2021-07-05T00:00:00.000Z|6          |101027800 |231      |383.37       |928359    |1         |383.37     |Parceiro Magalu - 06|Cliente Magalu - 0101027800|1        |Filial - 000231|2        |(LEOPOLDINA)   |14       |MG       |\n",
      "|4776492076 |2021-06-27T00:00:00.000Z|6          |101089040 |364      |64.87        |53654     |1         |64.87      |Parceiro Magalu - 06|Cliente Magalu - 0101089040|0        |Filial - 000364|16       |ABELARDO LUZ   |31       |SC       |\n",
      "|47578572216|2021-06-23T00:00:00.000Z|16         |101169430 |980      |116.99       |1213357   |1         |116.99     |Parceiro Magalu - 16|Cliente Magalu - 0101169430|0        |Filial - 000980|298      |ANTONINA       |22       |PR       |\n",
      "+-----------+------------------------+-----------+----------+---------+-------------+----------+----------+-----------+--------------------+---------------------------+---------+---------------+---------+---------------+---------+---------+\n",
      "only showing top 20 rows\n",
      "\n"
     ]
    }
   ],
   "source": [
    "#df_pedidos com df_item_pedido\n",
    "df_stage = df_pedido.join(df_item_pedido, df_pedido.id_pedido == df_item_pedido.id_pedido, 'left')\n",
    "df_stage = df_stage.drop(df_item_pedido.id_pedido)\n",
    "\n",
    "#df_stage com df_parceiro\n",
    "df_stage = df_stage.join(df_parceiro, df_stage.id_parceiro == df_parceiro.id_parceiro, 'left')\n",
    "df_stage = df_stage.drop(df_parceiro.id_parceiro)\n",
    "\n",
    "#df_stage com df_cliente\n",
    "df_stage = df_stage.join(df_clientes, df_stage.id_cliente == df_clientes.id_cliente, 'left')\n",
    "df_stage = df_stage.drop(df_clientes.id_cliente)\n",
    "\n",
    "#df_stage com df_filial\n",
    "df_stage = df_stage.join(df_filial, df_stage.id_filial == df_filial.id_filial, 'left')\n",
    "df_stage = df_stage.drop(df_filial.id_filial)\n",
    "\n",
    "#df_stage com df_cidade\n",
    "df_stage = df_stage.join(df_cidade, df_stage.id_cidade == df_cidade.id_cidade, 'left')\n",
    "df_stage = df_stage.drop(df_cidade.id_cidade)\n",
    "\n",
    "#df_stage com df_estado\n",
    "df_stage = df_stage.join(df_estado, df_stage.id_estado == df_estado.id_estado, 'left')\n",
    "df_stage = df_stage.drop(df_estado.id_estado)\n",
    "\n",
    "# df_stage com df_produtos\n",
    "#df_stage = df_stage.join(df_produtos, df_stage.ds_produto == df_produtos.ds_produto, 'left')\n",
    "#df_stage = df_stage.drop(df_produtos.ds_produto)\n",
    "\n",
    "# df_stage com df_subcategoria\n",
    "#df_stage = df_stage.join(df_subcategoria, df_stage.id_subcategoria == df_subcategoria.id_subcategoria, 'left')\n",
    "#df_stage = df_stage.drop(df_subcategoria.id_subcategoria)\n",
    "\n",
    "# df_stage com df_categorias\n",
    "#df_stage = df_stage.join(df_categorias, df_stage.id_categoria == df_categorias.id_categoria, 'left')\n",
    "#df_stage = df_stage.drop(df_categorias.id_categoria)\n",
    "\n",
    "#show\n",
    "df_stage.show(truncate=False)"
   ]
  },
  {
   "cell_type": "code",
   "execution_count": null,
   "metadata": {},
   "outputs": [],
   "source": []
  }
 ],
 "metadata": {
  "kernelspec": {
   "display_name": "PySpark",
   "language": "python",
   "name": "pyspark"
  },
  "language_info": {
   "codemirror_mode": {
    "name": "ipython",
    "version": 3
   },
   "file_extension": ".py",
   "mimetype": "text/x-python",
   "name": "python",
   "nbconvert_exporter": "python",
   "pygments_lexer": "ipython3",
   "version": "3.6.10"
  }
 },
 "nbformat": 4,
 "nbformat_minor": 2
}
