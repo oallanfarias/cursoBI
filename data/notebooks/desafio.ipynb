{
 "cells": [
  {
   "cell_type": "markdown",
   "metadata": {},
   "source": [
    "#### 1.Preparando ambiente"
   ]
  },
  {
   "cell_type": "code",
   "execution_count": 3,
   "metadata": {},
   "outputs": [],
   "source": [
    "from pyspark.sql import SparkSession, dataframe\n",
    "from pyspark.sql.functions import when, col, sum, count, isnan, round, isnull, to_timestamp, unix_timestamp\n",
    "from pyspark.sql.functions import regexp_replace, concat_ws, sha2, rtrim\n",
    "from pyspark.sql.functions import unix_timestamp, from_unixtime, to_date\n",
    "from pyspark.sql.types import StructType, StructField\n",
    "from pyspark.sql.types import DoubleType, IntegerType, StringType, DateType, DecimalType, TimestampType, FloatType\n",
    "from pyspark.sql import HiveContext\n",
    "\n",
    "import os\n",
    "import re\n",
    "\n",
    "from pyspark.sql.functions import regexp_replace\n",
    "from pyspark.sql.functions import when\n",
    "\n",
    "from pyspark.sql.functions import countDistinct\n",
    "from pyspark.sql.functions import year, month, dayofmonth, quarter \n",
    "\n",
    "from pyspark.sql.functions import col, to_date, unix_timestamp\n",
    "\n",
    "spark = SparkSession.builder.master(\"local[*]\")\\\n",
    "    .enableHiveSupport()\\\n",
    "    .getOrCreate()"
   ]
  },
  {
   "cell_type": "code",
   "execution_count": 38,
   "metadata": {},
   "outputs": [],
   "source": [
    "def salvar_df(df, file):\n",
    "    output = \"/input/desafio_curso/gold/\" + file\n",
    "    erase = \"hdfs dfs -rm \" + output + \"/*\"\n",
    "    rename = \"hdfs dfs -get /datalake/gold/\" + file + \"/part-* /input/big_data_BI/gold/\" + file + \".csv\"\n",
    "    print(rename)\n",
    "\n",
    "    df.coalesce(1).write \\\n",
    "        .format(\"csv\") \\\n",
    "        .option(\"header\", True) \\\n",
    "        .option(\"delimiter\", \";\") \\\n",
    "        .mode(\"overwrite\") \\\n",
    "        .save(\"/datalake/gold/\" + file + \"/\")\n",
    "\n",
    "    os.system(erase)\n",
    "    os.system(rename)"
   ]
  },
  {
   "cell_type": "markdown",
   "metadata": {},
   "source": [
    "#### 2.Criando os DFs"
   ]
  },
  {
   "cell_type": "code",
   "execution_count": 5,
   "metadata": {
    "scrolled": true
   },
   "outputs": [],
   "source": [
    "#Vendas\n",
    "df_vendas = spark.sql(\"\"\"\n",
    "                    SELECT DISTINCT * \n",
    "                    FROM desafio_curso.tbl_vendas\n",
    "                    \"\"\")"
   ]
  },
  {
   "cell_type": "code",
   "execution_count": 6,
   "metadata": {},
   "outputs": [],
   "source": [
    "#Clientes\n",
    "df_clientes = spark.sql(\"\"\"\n",
    "                    SELECT DISTINCT * \n",
    "                    FROM desafio_curso.tbl_clientes\n",
    "                    \"\"\")"
   ]
  },
  {
   "cell_type": "code",
   "execution_count": 7,
   "metadata": {
    "scrolled": true
   },
   "outputs": [
    {
     "name": "stdout",
     "output_type": "stream",
     "text": [
      "+--------------+--------------------+-------+--------------------+--------------------+--------------------+--------------------+-----+------------+\n",
      "|address_number|                city|country|  customer_address_1|  customer_address_2|  customer_address_3|  customer_address_4|state|    zip_code|\n",
      "+--------------+--------------------+-------+--------------------+--------------------+--------------------+--------------------+-----+------------+\n",
      "|Address Number|                City|Country|  Customer Address 1|  Customer Address 2|  Customer Address 3|  Customer Address 4|State|    Zip Code|\n",
      "|      10000000|               Akron|     US|         PO Box 6258|                 ...|                 ...|                 ...|   OH|       44312|\n",
      "|      10000453|                 ...|     UK|                 ...|                 ...|                 ...|                 ...|     |            |\n",
      "|      10000455|    Huntington Beach|     US|   7392 Count Circle|                 ...|                 ...|                 ...|   CA|       92647|\n",
      "|      10000456|            Edmonton|     CA|    8151 Wagner Road|                 ...|                 ...|                 ...|   AB|     T6E 4N6|\n",
      "+--------------+--------------------+-------+--------------------+--------------------+--------------------+--------------------+-----+------------+\n",
      "only showing top 5 rows\n",
      "\n"
     ]
    }
   ],
   "source": [
    "#Endereço\n",
    "df_endereco = spark.sql(\"\"\"\n",
    "                    SELECT * \n",
    "                    FROM desafio_curso.tbl_endereco\n",
    "                    \"\"\")\n",
    "#df_endereco.show(5)"
   ]
  },
  {
   "cell_type": "code",
   "execution_count": 8,
   "metadata": {},
   "outputs": [
    {
     "name": "stdout",
     "output_type": "stream",
     "text": [
      "+-----------+-----------+\n",
      "|region_code|region_name|\n",
      "+-----------+-----------+\n",
      "|Region Code|Region Name|\n",
      "|          0|     Canada|\n",
      "|          1|    Western|\n",
      "|          2|   Southern|\n",
      "|          3|  Northeast|\n",
      "+-----------+-----------+\n",
      "only showing top 5 rows\n",
      "\n"
     ]
    }
   ],
   "source": [
    "#Região\n",
    "df_regiao = spark.sql(\"\"\"\n",
    "                    SELECT * \n",
    "                    FROM desafio_curso.tbl_regiao\n",
    "                    \"\"\")\n",
    "#df_regiao.show(5)"
   ]
  },
  {
   "cell_type": "code",
   "execution_count": 9,
   "metadata": {},
   "outputs": [],
   "source": [
    "#Divisão\n",
    "df_divisao = spark.sql(\"\"\"\n",
    "                    SELECT * \n",
    "                    FROM desafio_curso.tbl_divisao\n",
    "                    \"\"\")\n",
    "#df_divisao.show(5)"
   ]
  },
  {
   "cell_type": "markdown",
   "metadata": {},
   "source": [
    "#### 3.Criando a df_stage"
   ]
  },
  {
   "cell_type": "code",
   "execution_count": 10,
   "metadata": {},
   "outputs": [],
   "source": [
    "#Tabelas temporárias para VENDAS e CLIENTES\n",
    "df_vendas.createOrReplaceTempView(\"tbl_vendas\")\n",
    "df_clientes.createOrReplaceTempView(\"tbl_clientes\")"
   ]
  },
  {
   "cell_type": "code",
   "execution_count": 11,
   "metadata": {
    "scrolled": false
   },
   "outputs": [
    {
     "name": "stdout",
     "output_type": "stream",
     "text": [
      "+--------------------+-----------+----------+---------------+------------+--------------+----------+-----------+--------------------+-----------+----------+------------+----------------------+------------+--------------------------------+-----------------+-------------------+-----------+--------------+---------+---+--------------+---------------+-------------+-------------------+-------------+--------+----------------+------------+-----------+------------------+-----------+\n",
      "|actual_delivery_date|customerkey|   datekey|discount_amount|invoice_date|invoice_number|item_class|item_number|                item|line_number|list_price|order_number|promised_delivery_date|sales_amount|sales_amount_based_on_list_price|sales_cost_amount|sales_margin_amount|sales_price|sales_quantity|sales_rep|u_m|address_number|business_family|business_unit|           customer|customer_type|division|line_of_business|       phone|region_code|regional_sales_mgr|search_type|\n",
      "+--------------------+-----------+----------+---------------+------------+--------------+----------+-----------+--------------------+-----------+----------+------------+----------------------+------------+--------------------------------+-----------------+-------------------+-----------+--------------+---------+---+--------------+---------------+-------------+-------------------+-------------+--------+----------------+------------+-----------+------------------+-----------+\n",
      "|          27/10/2019|   10014495|26/10/2018|         915,99|  28/10/2018|        117050|       P01|      17801|Better Fancy Cann...|       1000|   1431,23|      213985|            27/10/2019|      515,24|                         1431,23|                0|             515,24|     515,24|             1|      161| EA|      10014495|             R3|            1|Harvard Supermarket|           G2|       2|                |816-455-8733|          1|               S16|          C|\n",
      "|          18/10/2019|   10016858|18/10/2018|        6112,56|  20/10/2018|        100604|       P01|      33446|Best Choice Low F...|       2000|    974,69|      200644|            18/10/2019|     5583,72|                        11696,28|                0|            5583,72|     465,31|            12|      159| EA|      10016858|             R2|            1|          IBVA Shop|           G2|       2|                |816-455-8733|          1|                S5|          C|\n",
      "|          29/12/2018|   10000486|01/01/2018|         282,33|  03/01/2018|        329700|       P01|      38842|        Ebony Lemons|      11000|    192,91|      124076|            29/12/2018|       296,4|                          578,73|           160,72|             135,68|       98,8|             3|      162| EA|      10000486|             R3|            1|      Aberdeen Shop|           G2|       1|                |816-455-8733|          5|               S14|          C|\n",
      "|          02/01/2019|   10019194|02/01/2018|         319,43|  04/01/2018|        329856|       P01|      28771|       Ebony Oranges|      35000|    157,76|      124056|            02/01/2019|      311,61|                          631,04|           213,35|              98,26|    77,9025|             4|      108| SE|      10019194|             R3|            1|     Kerite Company|           G2|       1|                |816-455-8733|          5|               S14|          C|\n",
      "|          02/01/2019|   10015253|03/01/2018|         265,45|  05/01/2018|        329966|       P01|      37170|Fast BBQ Potato C...|       8000|    190,85|      124291|            02/01/2019|       307,1|                          572,55|            127,9|              179,2|102,3666667|             3|      158| EA|      10015253|             R3|            1|     Hekimian Store|           G3|       1|                |816-455-8733|          5|                S8|          C|\n",
      "+--------------------+-----------+----------+---------------+------------+--------------+----------+-----------+--------------------+-----------+----------+------------+----------------------+------------+--------------------------------+-----------------+-------------------+-----------+--------------+---------+---+--------------+---------------+-------------+-------------------+-------------+--------+----------------+------------+-----------+------------------+-----------+\n",
      "only showing top 5 rows\n",
      "\n"
     ]
    }
   ],
   "source": [
    "#VENDAS + CLIENTES\n",
    "df_stage = spark.sql(\"\"\"\n",
    "                    SELECT DISTINCT v.*, \n",
    "                        c.address_number, \n",
    "                        c.business_family, \n",
    "                        c.business_unit,\n",
    "                        c.customer,\n",
    "                        c.customer_type, \n",
    "                        c.division, \n",
    "                        c.line_of_business, \n",
    "                        c.phone, \n",
    "                        c.region_code, \n",
    "                        c.regional_sales_mgr, \n",
    "                        c.search_type\n",
    "                    FROM tbl_vendas AS v\n",
    "                    INNER JOIN tbl_clientes AS c\n",
    "                    ON v.customerkey = c.customerkey\n",
    "                    \"\"\")\n",
    "df_stage = df_stage.drop(\"c.customerkey\")\n",
    "#df_stage.show(5)"
   ]
  },
  {
   "cell_type": "code",
   "execution_count": 12,
   "metadata": {},
   "outputs": [],
   "source": [
    "#Tabelas temporárias para ENDEREÇO \n",
    "df_endereco.createOrReplaceTempView(\"tbl_endereco\")\n",
    "df_stage.createOrReplaceTempView(\"df_stage\")"
   ]
  },
  {
   "cell_type": "code",
   "execution_count": 13,
   "metadata": {},
   "outputs": [
    {
     "name": "stdout",
     "output_type": "stream",
     "text": [
      "+--------------------+-----------+----------+---------------+------------+--------------+----------+-----------+--------------------+-----------+----------+------------+----------------------+------------+--------------------------------+-----------------+-------------------+-----------+--------------+---------+---+--------------+---------------+-------------+-------------------+-------------+--------+----------------+------------+-----------+------------------+-----------+---------+-------+--------------------+--------------------+--------------------+--------------------+-----+--------+\n",
      "|actual_delivery_date|customerkey|   datekey|discount_amount|invoice_date|invoice_number|item_class|item_number|                item|line_number|list_price|order_number|promised_delivery_date|sales_amount|sales_amount_based_on_list_price|sales_cost_amount|sales_margin_amount|sales_price|sales_quantity|sales_rep|u_m|address_number|business_family|business_unit|           customer|customer_type|division|line_of_business|       phone|region_code|regional_sales_mgr|search_type|     city|country|  customer_address_1|  customer_address_2|  customer_address_3|  customer_address_4|state|zip_code|\n",
      "+--------------------+-----------+----------+---------------+------------+--------------+----------+-----------+--------------------+-----------+----------+------------+----------------------+------------+--------------------------------+-----------------+-------------------+-----------+--------------+---------+---+--------------+---------------+-------------+-------------------+-------------+--------+----------------+------------+-----------+------------------+-----------+---------+-------+--------------------+--------------------+--------------------+--------------------+-----+--------+\n",
      "|          27/10/2019|   10014495|26/10/2018|         915,99|  28/10/2018|        117050|       P01|      17801|Better Fancy Cann...|       1000|   1431,23|      213985|            27/10/2019|      515,24|                         1431,23|                0|             515,24|     515,24|             1|      161| EA|      10014495|             R3|            1|Harvard Supermarket|           G2|       2|                |816-455-8733|          1|               S16|          C|Clackamas|     US| 12900 SE Capps Road|                 ...|                 ...|                 ...|   OR|   97015|\n",
      "|          18/10/2019|   10016858|18/10/2018|        6112,56|  20/10/2018|        100604|       P01|      33446|Best Choice Low F...|       2000|    974,69|      200644|            18/10/2019|     5583,72|                        11696,28|                0|            5583,72|     465,31|            12|      159| EA|      10016858|             R2|            1|          IBVA Shop|           G2|       2|                |816-455-8733|          1|                S5|          C|Beaverton|     US|6590 SW Fallbrook...|(Commercial Indus...|                 ...|                 ...|   OR|   97008|\n",
      "|          29/12/2018|   10000486|01/01/2018|         282,33|  03/01/2018|        329700|       P01|      38842|        Ebony Lemons|      11000|    192,91|      124076|            29/12/2018|       296,4|                          578,73|           160,72|             135,68|       98,8|             3|      162| EA|      10000486|             R3|            1|      Aberdeen Shop|           G2|       1|                |816-455-8733|          5|               S14|          C|     null|   null|                null|                null|                null|                null| null|    null|\n",
      "|          02/01/2019|   10019194|02/01/2018|         319,43|  04/01/2018|        329856|       P01|      28771|       Ebony Oranges|      35000|    157,76|      124056|            02/01/2019|      311,61|                          631,04|           213,35|              98,26|    77,9025|             4|      108| SE|      10019194|             R3|            1|     Kerite Company|           G2|       1|                |816-455-8733|          5|               S14|          C|     null|   null|                null|                null|                null|                null| null|    null|\n",
      "|          02/01/2019|   10015253|03/01/2018|         265,45|  05/01/2018|        329966|       P01|      37170|Fast BBQ Potato C...|       8000|    190,85|      124291|            02/01/2019|       307,1|                          572,55|            127,9|              179,2|102,3666667|             3|      158| EA|      10015253|             R3|            1|     Hekimian Store|           G3|       1|                |816-455-8733|          5|                S8|          C|     null|   null|                null|                null|                null|                null| null|    null|\n",
      "+--------------------+-----------+----------+---------------+------------+--------------+----------+-----------+--------------------+-----------+----------+------------+----------------------+------------+--------------------------------+-----------------+-------------------+-----------+--------------+---------+---+--------------+---------------+-------------+-------------------+-------------+--------+----------------+------------+-----------+------------------+-----------+---------+-------+--------------------+--------------------+--------------------+--------------------+-----+--------+\n",
      "only showing top 5 rows\n",
      "\n"
     ]
    }
   ],
   "source": [
    "#STAGE + ENDEREÇO\n",
    "df_stage = spark.sql(\"\"\"\n",
    "                    SELECT DISTINCT s.*, \n",
    "                        e.city, \n",
    "                        e.country, \n",
    "                        e.customer_address_1, \n",
    "                        e.customer_address_2, \n",
    "                        e.customer_address_3, \n",
    "                        e.customer_address_4, \n",
    "                        e.state, \n",
    "                        e.zip_code\n",
    "                    FROM df_stage AS s\n",
    "                    LEFT JOIN tbl_endereco AS e\n",
    "                    ON s.address_number = e.address_number\n",
    "                    \"\"\")\n",
    "\n",
    "# Remove a coluna duplicada 'address_number'\n",
    "df_stage = df_stage.drop(\"e.address_number\")\n",
    "#df_stage.show(5)"
   ]
  },
  {
   "cell_type": "code",
   "execution_count": 14,
   "metadata": {},
   "outputs": [],
   "source": [
    "#Tabela temporária para REGIÃO\n",
    "df_regiao.createOrReplaceTempView(\"tbl_regiao\")\n",
    "df_stage.createOrReplaceTempView(\"df_stage\")"
   ]
  },
  {
   "cell_type": "code",
   "execution_count": 15,
   "metadata": {},
   "outputs": [
    {
     "name": "stdout",
     "output_type": "stream",
     "text": [
      "+--------------------+-----------+----------+---------------+------------+--------------+----------+-----------+--------------------+-----------+----------+------------+----------------------+------------+--------------------------------+-----------------+-------------------+-----------+--------------+---------+---+--------------+---------------+-------------+-------------------+-------------+--------+----------------+------------+-----------+------------------+-----------+---------+-------+--------------------+--------------------+--------------------+--------------------+-----+--------+-------------+\n",
      "|actual_delivery_date|customerkey|   datekey|discount_amount|invoice_date|invoice_number|item_class|item_number|                item|line_number|list_price|order_number|promised_delivery_date|sales_amount|sales_amount_based_on_list_price|sales_cost_amount|sales_margin_amount|sales_price|sales_quantity|sales_rep|u_m|address_number|business_family|business_unit|           customer|customer_type|division|line_of_business|       phone|region_code|regional_sales_mgr|search_type|     city|country|  customer_address_1|  customer_address_2|  customer_address_3|  customer_address_4|state|zip_code|  region_name|\n",
      "+--------------------+-----------+----------+---------------+------------+--------------+----------+-----------+--------------------+-----------+----------+------------+----------------------+------------+--------------------------------+-----------------+-------------------+-----------+--------------+---------+---+--------------+---------------+-------------+-------------------+-------------+--------+----------------+------------+-----------+------------------+-----------+---------+-------+--------------------+--------------------+--------------------+--------------------+-----+--------+-------------+\n",
      "|          27/10/2019|   10014495|26/10/2018|         915,99|  28/10/2018|        117050|       P01|      17801|Better Fancy Cann...|       1000|   1431,23|      213985|            27/10/2019|      515,24|                         1431,23|                0|             515,24|     515,24|             1|      161| EA|      10014495|             R3|            1|Harvard Supermarket|           G2|       2|                |816-455-8733|          1|               S16|          C|Clackamas|     US| 12900 SE Capps Road|                 ...|                 ...|                 ...|   OR|   97015|      Western|\n",
      "|          18/10/2019|   10016858|18/10/2018|        6112,56|  20/10/2018|        100604|       P01|      33446|Best Choice Low F...|       2000|    974,69|      200644|            18/10/2019|     5583,72|                        11696,28|                0|            5583,72|     465,31|            12|      159| EA|      10016858|             R2|            1|          IBVA Shop|           G2|       2|                |816-455-8733|          1|                S5|          C|Beaverton|     US|6590 SW Fallbrook...|(Commercial Indus...|                 ...|                 ...|   OR|   97008|      Western|\n",
      "|          29/12/2018|   10000486|01/01/2018|         282,33|  03/01/2018|        329700|       P01|      38842|        Ebony Lemons|      11000|    192,91|      124076|            29/12/2018|       296,4|                          578,73|           160,72|             135,68|       98,8|             3|      162| EA|      10000486|             R3|            1|      Aberdeen Shop|           G2|       1|                |816-455-8733|          5|               S14|          C|     null|   null|                null|                null|                null|                null| null|    null|International|\n",
      "|          02/01/2019|   10019194|02/01/2018|         319,43|  04/01/2018|        329856|       P01|      28771|       Ebony Oranges|      35000|    157,76|      124056|            02/01/2019|      311,61|                          631,04|           213,35|              98,26|    77,9025|             4|      108| SE|      10019194|             R3|            1|     Kerite Company|           G2|       1|                |816-455-8733|          5|               S14|          C|     null|   null|                null|                null|                null|                null| null|    null|International|\n",
      "|          02/01/2019|   10015253|03/01/2018|         265,45|  05/01/2018|        329966|       P01|      37170|Fast BBQ Potato C...|       8000|    190,85|      124291|            02/01/2019|       307,1|                          572,55|            127,9|              179,2|102,3666667|             3|      158| EA|      10015253|             R3|            1|     Hekimian Store|           G3|       1|                |816-455-8733|          5|                S8|          C|     null|   null|                null|                null|                null|                null| null|    null|International|\n",
      "+--------------------+-----------+----------+---------------+------------+--------------+----------+-----------+--------------------+-----------+----------+------------+----------------------+------------+--------------------------------+-----------------+-------------------+-----------+--------------+---------+---+--------------+---------------+-------------+-------------------+-------------+--------+----------------+------------+-----------+------------------+-----------+---------+-------+--------------------+--------------------+--------------------+--------------------+-----+--------+-------------+\n",
      "only showing top 5 rows\n",
      "\n"
     ]
    }
   ],
   "source": [
    "#STAGE + REGIÃO\n",
    "df_stage = spark.sql(\"\"\"\n",
    "                    SELECT DISTINCT s.*, r.region_name\n",
    "                    FROM df_stage AS s\n",
    "                    LEFT JOIN tbl_regiao AS r\n",
    "                    ON s.region_code = r.region_code\n",
    "                    \"\"\")\n",
    "df_stage = df_stage.drop(\"r.region_code\")\n",
    "#df_stage.show(5)"
   ]
  },
  {
   "cell_type": "code",
   "execution_count": 16,
   "metadata": {},
   "outputs": [],
   "source": [
    "#Tabela temporária para DIVISÃO\n",
    "df_divisao.createOrReplaceTempView(\"tbl_divisao\")\n",
    "df_stage.createOrReplaceTempView(\"df_stage\")"
   ]
  },
  {
   "cell_type": "code",
   "execution_count": 17,
   "metadata": {},
   "outputs": [
    {
     "name": "stdout",
     "output_type": "stream",
     "text": [
      "+--------------------+-----------+----------+---------------+------------+--------------+----------+-----------+--------------------+-----------+----------+------------+----------------------+------------+--------------------------------+-----------------+-------------------+-----------+--------------+---------+---+--------------+---------------+-------------+-------------------+-------------+--------+----------------+------------+-----------+------------------+-----------+---------+-------+--------------------+--------------------+--------------------+--------------------+-----+--------+-------------+-------------+\n",
      "|actual_delivery_date|customerkey|   datekey|discount_amount|invoice_date|invoice_number|item_class|item_number|                item|line_number|list_price|order_number|promised_delivery_date|sales_amount|sales_amount_based_on_list_price|sales_cost_amount|sales_margin_amount|sales_price|sales_quantity|sales_rep|u_m|address_number|business_family|business_unit|           customer|customer_type|division|line_of_business|       phone|region_code|regional_sales_mgr|search_type|     city|country|  customer_address_1|  customer_address_2|  customer_address_3|  customer_address_4|state|zip_code|  region_name|division_name|\n",
      "+--------------------+-----------+----------+---------------+------------+--------------+----------+-----------+--------------------+-----------+----------+------------+----------------------+------------+--------------------------------+-----------------+-------------------+-----------+--------------+---------+---+--------------+---------------+-------------+-------------------+-------------+--------+----------------+------------+-----------+------------------+-----------+---------+-------+--------------------+--------------------+--------------------+--------------------+-----+--------+-------------+-------------+\n",
      "|          27/10/2019|   10014495|26/10/2018|         915,99|  28/10/2018|        117050|       P01|      17801|Better Fancy Cann...|       1000|   1431,23|      213985|            27/10/2019|      515,24|                         1431,23|                0|             515,24|     515,24|             1|      161| EA|      10014495|             R3|            1|Harvard Supermarket|           G2|       2|                |816-455-8733|          1|               S16|          C|Clackamas|     US| 12900 SE Capps Road|                 ...|                 ...|                 ...|   OR|   97015|      Western|     Domestic|\n",
      "|          18/10/2019|   10016858|18/10/2018|        6112,56|  20/10/2018|        100604|       P01|      33446|Best Choice Low F...|       2000|    974,69|      200644|            18/10/2019|     5583,72|                        11696,28|                0|            5583,72|     465,31|            12|      159| EA|      10016858|             R2|            1|          IBVA Shop|           G2|       2|                |816-455-8733|          1|                S5|          C|Beaverton|     US|6590 SW Fallbrook...|(Commercial Indus...|                 ...|                 ...|   OR|   97008|      Western|     Domestic|\n",
      "|          29/12/2018|   10000486|01/01/2018|         282,33|  03/01/2018|        329700|       P01|      38842|        Ebony Lemons|      11000|    192,91|      124076|            29/12/2018|       296,4|                          578,73|           160,72|             135,68|       98,8|             3|      162| EA|      10000486|             R3|            1|      Aberdeen Shop|           G2|       1|                |816-455-8733|          5|               S14|          C|     null|   null|                null|                null|                null|                null| null|    null|International|International|\n",
      "|          02/01/2019|   10019194|02/01/2018|         319,43|  04/01/2018|        329856|       P01|      28771|       Ebony Oranges|      35000|    157,76|      124056|            02/01/2019|      311,61|                          631,04|           213,35|              98,26|    77,9025|             4|      108| SE|      10019194|             R3|            1|     Kerite Company|           G2|       1|                |816-455-8733|          5|               S14|          C|     null|   null|                null|                null|                null|                null| null|    null|International|International|\n",
      "|          02/01/2019|   10015253|03/01/2018|         265,45|  05/01/2018|        329966|       P01|      37170|Fast BBQ Potato C...|       8000|    190,85|      124291|            02/01/2019|       307,1|                          572,55|            127,9|              179,2|102,3666667|             3|      158| EA|      10015253|             R3|            1|     Hekimian Store|           G3|       1|                |816-455-8733|          5|                S8|          C|     null|   null|                null|                null|                null|                null| null|    null|International|International|\n",
      "+--------------------+-----------+----------+---------------+------------+--------------+----------+-----------+--------------------+-----------+----------+------------+----------------------+------------+--------------------------------+-----------------+-------------------+-----------+--------------+---------+---+--------------+---------------+-------------+-------------------+-------------+--------+----------------+------------+-----------+------------------+-----------+---------+-------+--------------------+--------------------+--------------------+--------------------+-----+--------+-------------+-------------+\n",
      "only showing top 5 rows\n",
      "\n"
     ]
    }
   ],
   "source": [
    "#STAGE + DIVISÃO\n",
    "df_stage = spark.sql(\"\"\"\n",
    "                    SELECT DISTINCT s.*, \n",
    "                        d.division_name\n",
    "                    FROM df_stage AS s\n",
    "                    LEFT JOIN tbl_divisao AS d\n",
    "                    ON s.division = d.division\n",
    "                    \"\"\")\n",
    "\n",
    "df_stag = df_stage.drop(\"d.division\")\n",
    "#df_stage.show(5)"
   ]
  },
  {
   "cell_type": "markdown",
   "metadata": {},
   "source": [
    "#### 4.Aplicando regras"
   ]
  },
  {
   "cell_type": "code",
   "execution_count": 18,
   "metadata": {
    "scrolled": false
   },
   "outputs": [
    {
     "name": "stdout",
     "output_type": "stream",
     "text": [
      "root\n",
      " |-- actual_delivery_date: string (nullable = true)\n",
      " |-- customerkey: string (nullable = true)\n",
      " |-- datekey: string (nullable = true)\n",
      " |-- discount_amount: string (nullable = true)\n",
      " |-- invoice_date: string (nullable = true)\n",
      " |-- invoice_number: string (nullable = true)\n",
      " |-- item_class: string (nullable = true)\n",
      " |-- item_number: string (nullable = true)\n",
      " |-- item: string (nullable = true)\n",
      " |-- line_number: string (nullable = true)\n",
      " |-- list_price: string (nullable = true)\n",
      " |-- order_number: string (nullable = true)\n",
      " |-- promised_delivery_date: string (nullable = true)\n",
      " |-- sales_amount: string (nullable = true)\n",
      " |-- sales_amount_based_on_list_price: string (nullable = true)\n",
      " |-- sales_cost_amount: string (nullable = true)\n",
      " |-- sales_margin_amount: string (nullable = true)\n",
      " |-- sales_price: string (nullable = true)\n",
      " |-- sales_quantity: string (nullable = true)\n",
      " |-- sales_rep: string (nullable = true)\n",
      " |-- u_m: string (nullable = true)\n",
      " |-- address_number: string (nullable = true)\n",
      " |-- business_family: string (nullable = true)\n",
      " |-- business_unit: string (nullable = true)\n",
      " |-- customer: string (nullable = true)\n",
      " |-- customer_type: string (nullable = true)\n",
      " |-- division: string (nullable = true)\n",
      " |-- line_of_business: string (nullable = true)\n",
      " |-- phone: string (nullable = true)\n",
      " |-- region_code: string (nullable = true)\n",
      " |-- regional_sales_mgr: string (nullable = true)\n",
      " |-- search_type: string (nullable = true)\n",
      " |-- city: string (nullable = true)\n",
      " |-- country: string (nullable = true)\n",
      " |-- customer_address_1: string (nullable = true)\n",
      " |-- customer_address_2: string (nullable = true)\n",
      " |-- customer_address_3: string (nullable = true)\n",
      " |-- customer_address_4: string (nullable = true)\n",
      " |-- state: string (nullable = true)\n",
      " |-- zip_code: string (nullable = true)\n",
      " |-- region_name: string (nullable = true)\n",
      " |-- division_name: string (nullable = true)\n",
      "\n"
     ]
    }
   ],
   "source": [
    "df_stage.printSchema()"
   ]
  },
  {
   "cell_type": "code",
   "execution_count": 20,
   "metadata": {},
   "outputs": [],
   "source": [
    "df_stage2 = df_stage"
   ]
  },
  {
   "cell_type": "code",
   "execution_count": 21,
   "metadata": {},
   "outputs": [
    {
     "name": "stdout",
     "output_type": "stream",
     "text": [
      "root\n",
      " |-- actual_delivery_date: timestamp (nullable = true)\n",
      " |-- customerkey: string (nullable = true)\n",
      " |-- datekey: timestamp (nullable = true)\n",
      " |-- discount_amount: float (nullable = true)\n",
      " |-- invoice_date: timestamp (nullable = true)\n",
      " |-- invoice_number: string (nullable = true)\n",
      " |-- item_class: string (nullable = true)\n",
      " |-- item_number: string (nullable = true)\n",
      " |-- item: string (nullable = true)\n",
      " |-- line_number: string (nullable = true)\n",
      " |-- list_price: float (nullable = true)\n",
      " |-- order_number: string (nullable = true)\n",
      " |-- promised_delivery_date: timestamp (nullable = true)\n",
      " |-- sales_amount: float (nullable = true)\n",
      " |-- sales_amount_based_on_list_price: float (nullable = true)\n",
      " |-- sales_cost_amount: float (nullable = true)\n",
      " |-- sales_margin_amount: float (nullable = true)\n",
      " |-- sales_price: float (nullable = true)\n",
      " |-- sales_quantity: integer (nullable = true)\n",
      " |-- sales_rep: integer (nullable = true)\n",
      " |-- u_m: string (nullable = true)\n",
      " |-- address_number: string (nullable = true)\n",
      " |-- business_family: string (nullable = true)\n",
      " |-- business_unit: integer (nullable = true)\n",
      " |-- customer: string (nullable = true)\n",
      " |-- customer_type: string (nullable = true)\n",
      " |-- division: integer (nullable = true)\n",
      " |-- line_of_business: string (nullable = true)\n",
      " |-- phone: string (nullable = true)\n",
      " |-- region_code: string (nullable = true)\n",
      " |-- regional_sales_mgr: string (nullable = true)\n",
      " |-- search_type: string (nullable = true)\n",
      " |-- city: string (nullable = true)\n",
      " |-- country: string (nullable = true)\n",
      " |-- customer_address_1: string (nullable = true)\n",
      " |-- customer_address_2: string (nullable = true)\n",
      " |-- customer_address_3: string (nullable = true)\n",
      " |-- customer_address_4: string (nullable = true)\n",
      " |-- state: string (nullable = true)\n",
      " |-- zip_code: string (nullable = true)\n",
      " |-- region_name: string (nullable = true)\n",
      " |-- division_name: string (nullable = true)\n",
      "\n"
     ]
    }
   ],
   "source": [
    "#Convertendo colunas de data\n",
    "data_columns = ['actual_delivery_date', \n",
    "                'datekey', \n",
    "                'invoice_date', \n",
    "                'promised_delivery_date']\n",
    "\n",
    "date_format = \"yyyy-MM-dd\"\n",
    "\n",
    "for c in data_columns:\n",
    "    df_stage2 = df_stage2.withColumn(c, to_timestamp(col(c), date_format).cast(TimestampType()))\n",
    "\n",
    "#Convertendo colunas de string\n",
    "string_columns = ['customerkey',\n",
    "                   'invoice_number',\n",
    "                   'item_class', \n",
    "                   'item_number',\n",
    "                   'item', \n",
    "                   'line_number',\n",
    "                   'order_number',\n",
    "                   'sales_quantity',\n",
    "                   'sales_rep',\n",
    "                   'u_m',\n",
    "                   'address_number',\n",
    "                   'business_family',\n",
    "                   'business_unit',\n",
    "                   'customer',\n",
    "                   'customer_type',\n",
    "                   'division',\n",
    "                   'line_of_business',\n",
    "                   'phone',\n",
    "                   'regional_sales_mgr',\n",
    "                   'search_type',\n",
    "                   'city',\n",
    "                   'country',\n",
    "                   'customer_address_1',\n",
    "                   'customer_address_2',\n",
    "                   'customer_address_3',\n",
    "                   'customer_address_4',\n",
    "                   'state',\n",
    "                   'zip_code',\n",
    "                   'region_code',\n",
    "                   'region_name',\n",
    "                   'division_name']\n",
    "\n",
    "for c in string_columns:\n",
    "    df_stage2 = df_stage2.withColumn(c, col(c).cast(StringType()))\n",
    "\n",
    "#Converter colunas de decimais\n",
    "decimal_columns = ['discount_amount',\n",
    "                   'list_price',\n",
    "                   'sales_amount',\n",
    "                   'sales_amount_based_on_list_price',\n",
    "                   'sales_cost_amount',\n",
    "                   'sales_margin_amount',\n",
    "                   'sales_price']\n",
    "\n",
    "for c in decimal_columns:\n",
    "    df_stage2 = df_stage2.withColumn(c, col(c).cast(FloatType()))\n",
    "\n",
    "#Converter colunas de inteiros\n",
    "integer_columns = ['sales_quantity', \n",
    "                   'sales_rep', \n",
    "                   'business_unit', \n",
    "                   'division']\n",
    "\n",
    "for c in integer_columns:\n",
    "    df_stage2 = df_stage2.withColumn(c, col(c).cast(IntegerType()))\n",
    "\n",
    "#Verificando o schema\n",
    "df_stage2.printSchema()\n"
   ]
  },
  {
   "cell_type": "markdown",
   "metadata": {},
   "source": [
    "##### 4.1.Campos strings vazios deverão ser preenchidos com 'Não informado'."
   ]
  },
  {
   "cell_type": "code",
   "execution_count": null,
   "metadata": {},
   "outputs": [],
   "source": []
  },
  {
   "cell_type": "markdown",
   "metadata": {},
   "source": [
    "##### 4.2.Campos decimais ou inteiros nulos ou vazios, deversão ser preenchidos por 0."
   ]
  },
  {
   "cell_type": "code",
   "execution_count": null,
   "metadata": {},
   "outputs": [],
   "source": []
  },
  {
   "cell_type": "markdown",
   "metadata": {},
   "source": [
    "#### 5.Gravar as informações em tabelas dm em formato cvs delimitado por ';'."
   ]
  },
  {
   "cell_type": "code",
   "execution_count": 22,
   "metadata": {},
   "outputs": [],
   "source": [
    "#Criando as colunas dia, mês, ano e trimestre para a dimensão tempo\n",
    "df_stage2 = df_stage2.withColumn(\"data\", to_date(\"invoice_date\", \"dd/MM/yyyy\"))\n",
    "df_stage2 = df_stage2.withColumn(\"dia\", dayofmonth(\"data\"))\n",
    "df_stage2 = df_stage2.withColumn(\"mes\", month(\"data\"))\n",
    "df_stage2 = df_stage2.withColumn(\"ano\", year(\"data\"))\n",
    "df_stage2 = df_stage2.withColumn(\"trimestre\", quarter(\"data\")).drop(df_stage2.invoice_date)  "
   ]
  },
  {
   "cell_type": "code",
   "execution_count": 23,
   "metadata": {},
   "outputs": [],
   "source": [
    "#Criação das chaves - PK_LOCALIDADE\n",
    "df_stage2 = df_stage2.withColumn('PK_LOCALIDADE', sha2(concat_ws(\"\", df_stage2.customer_address_1, df_stage2.customer_address_2, df_stage2.customer_address_3, df_stage2.customer_address_4, df_stage2.address_number, df_stage2.region_code, df_stage2.region_name, df_stage2.city, df_stage2.country, df_stage2.state, df_stage2.zip_code ), 256)) "
   ]
  },
  {
   "cell_type": "code",
   "execution_count": 24,
   "metadata": {},
   "outputs": [],
   "source": [
    "#Criação das chaves - PK_TEMPO\n",
    "df_stage2 = df_stage2.withColumn('PK_TEMPO', sha2(concat_ws(\"\", df_stage2.data, df_stage2.dia, df_stage2.mes, df_stage2.ano, df_stage2.trimestre), 256))"
   ]
  },
  {
   "cell_type": "code",
   "execution_count": 27,
   "metadata": {},
   "outputs": [],
   "source": [
    "#Criação das chaves - PK_CLIENTES\n",
    "df_stage2 = df_stage2.withColumn('PK_CLIENTES', sha2(concat_ws(\"\", df_stage2.customerkey, df_stage2.customer, df_stage2.customer_type, df_stage2.phone, df_stage2.line_of_business), 256))"
   ]
  },
  {
   "cell_type": "code",
   "execution_count": 28,
   "metadata": {},
   "outputs": [],
   "source": [
    "#Tabela temp para a fatos e as dimensões\n",
    "df_stage2.createOrReplaceTempView(\"stage\")"
   ]
  },
  {
   "cell_type": "code",
   "execution_count": 29,
   "metadata": {},
   "outputs": [],
   "source": [
    "ft_vendas = spark.sql(\"\"\"\n",
    "                    SELECT PK_CLIENTES,\n",
    "                            PK_TEMPO, \n",
    "                            PK_LOCALIDADE, \n",
    "                            COUNT(sales_price) AS VALOR_DE_VENDA \n",
    "                    FROM stage \n",
    "                    GROUP BY PK_CLIENTES, PK_TEMPO, PK_LOCALIDADE\n",
    "                    \"\"\")"
   ]
  },
  {
   "cell_type": "code",
   "execution_count": 31,
   "metadata": {},
   "outputs": [],
   "source": [
    "df_clientes = spark.sql(\"\"\"\n",
    "                        SELECT DISTINCT PK_CLIENTES,\n",
    "                                        customerkey,\n",
    "                                        customer,\n",
    "                                        customer_type,\n",
    "                                        phone,\n",
    "                                        line_of_business\n",
    "                        FROM STAGE\n",
    "                        \"\"\")"
   ]
  },
  {
   "cell_type": "code",
   "execution_count": 32,
   "metadata": {},
   "outputs": [],
   "source": [
    "df_localidade = spark.sql(\"\"\"\n",
    "                        SELECT DISTINCT PK_LOCALIDADE,\n",
    "                                        customer_address_1,\n",
    "                                        customer_address_2,\n",
    "                                        customer_address_3,\n",
    "                                        customer_address_4,\n",
    "                                        address_number,\n",
    "                                        region_code,\n",
    "                                        region_name,\n",
    "                                        city,\n",
    "                                        country,\n",
    "                                        state,\n",
    "                                        zip_code\n",
    "                        FROM STAGE\n",
    "                        \"\"\")"
   ]
  },
  {
   "cell_type": "code",
   "execution_count": 33,
   "metadata": {},
   "outputs": [],
   "source": [
    "df_tempo = spark.sql(\"\"\"\n",
    "                    SELECT DISTINCT PK_TEMPO,\n",
    "                                    data,\n",
    "                                    dia,\n",
    "                                    mes,\n",
    "                                    ano,\n",
    "                                    trimestre\n",
    "                    FROM STAGE\n",
    "                    \"\"\")"
   ]
  },
  {
   "cell_type": "markdown",
   "metadata": {},
   "source": [
    "##### 6.Enviando para a GOLD"
   ]
  },
  {
   "cell_type": "code",
   "execution_count": 39,
   "metadata": {},
   "outputs": [
    {
     "name": "stdout",
     "output_type": "stream",
     "text": [
      "hdfs dfs -get /datalake/gold/ft_vendas/part-* /input/big_data_BI/gold/ft_vendas.csv\n"
     ]
    }
   ],
   "source": [
    "#FT_VENDAS\n",
    "salvar_df(ft_vendas, 'ft_vendas')"
   ]
  },
  {
   "cell_type": "code",
   "execution_count": 40,
   "metadata": {},
   "outputs": [
    {
     "name": "stdout",
     "output_type": "stream",
     "text": [
      "hdfs dfs -get /datalake/gold/dim_clientes/part-* /input/big_data_BI/gold/dim_clientes.csv\n"
     ]
    }
   ],
   "source": [
    "#DIM_CLIENTES\n",
    "salvar_df(df_clientes, 'dim_clientes')"
   ]
  },
  {
   "cell_type": "code",
   "execution_count": 41,
   "metadata": {},
   "outputs": [
    {
     "name": "stdout",
     "output_type": "stream",
     "text": [
      "hdfs dfs -get /datalake/gold/dim_tempo/part-* /input/big_data_BI/gold/dim_tempo.csv\n"
     ]
    }
   ],
   "source": [
    "#DIM_TEMPO\n",
    "salvar_df(df_tempo, 'dim_tempo')"
   ]
  },
  {
   "cell_type": "code",
   "execution_count": null,
   "metadata": {},
   "outputs": [
    {
     "name": "stdout",
     "output_type": "stream",
     "text": [
      "hdfs dfs -get /datalake/gold/dim_localidade/part-* /input/big_data_BI/gold/dim_localidade.csv\n"
     ]
    }
   ],
   "source": [
    "#DIM_LOCALIDADE\n",
    "salvar_df(df_localidade, 'dim_localidade')"
   ]
  }
 ],
 "metadata": {
  "kernelspec": {
   "display_name": "PySpark",
   "language": "python",
   "name": "pyspark"
  },
  "language_info": {
   "codemirror_mode": {
    "name": "ipython",
    "version": 3
   },
   "file_extension": ".py",
   "mimetype": "text/x-python",
   "name": "python",
   "nbconvert_exporter": "python",
   "pygments_lexer": "ipython3",
   "version": "3.6.10"
  }
 },
 "nbformat": 4,
 "nbformat_minor": 2
}
